{
 "cells": [
  {
   "cell_type": "code",
   "execution_count": null,
   "id": "11050cd5-368a-4a4a-90bf-e253e0a1e71b",
   "metadata": {},
   "outputs": [],
   "source": [
    "from elasticsearch import Elasticsearch\n",
    "from elasticsearch.helpers import scan\n",
    "from elasticsearch import ConflictError"
   ]
  },
  {
   "cell_type": "code",
   "execution_count": null,
   "id": "c5556fb4-c37b-423d-a986-6b30b7f22800",
   "metadata": {},
   "outputs": [],
   "source": [
    "es_remote = Elasticsearch([\"elasticsearch.ceda.ac.uk:443\"], use_ssl=True, verify_certs=True)\n",
    "remote_index = \"c3s-roocs-fix-prop\""
   ]
  },
  {
   "cell_type": "code",
   "execution_count": null,
   "id": "9acbd79c-00b9-42c1-bb14-079054d1b18f",
   "metadata": {},
   "outputs": [],
   "source": [
    "es_local = Elasticsearch([\"136.172.60.76:9200\"])\n",
    " "
   ]
  },
  {
   "cell_type": "code",
   "execution_count": null,
   "id": "16990b00-5a61-4edb-8d41-4aa36c3325ac",
   "metadata": {},
   "outputs": [],
   "source": [
    "from tqdm.notebook import tqdm\n",
    "local_index = None\n",
    "for doc in tqdm(scan(es_remote, index=remote_index), desc=\"reindex\"):\n",
    "    # print(doc[\"_source\"][\"dataset_id\"])\n",
    "    local_index = doc['_index']\n",
    "    try:\n",
    "        es_local.create(id=doc['_id'], index=local_index, document=doc['_source'])\n",
    "    except ConflictError:\n",
    "        pass"
   ]
  },
  {
   "cell_type": "code",
   "execution_count": null,
   "id": "cfd490d5-54e4-46ca-9923-6fef4e9c04f7",
   "metadata": {},
   "outputs": [],
   "source": [
    "es_local.indices.put_alias(index=local_index, name=remote_index)"
   ]
  }
 ],
 "metadata": {
  "kernelspec": {
   "display_name": "Python 3 (ipykernel)",
   "language": "python",
   "name": "python3"
  },
  "language_info": {
   "codemirror_mode": {
    "name": "ipython",
    "version": 3
   },
   "file_extension": ".py",
   "mimetype": "text/x-python",
   "name": "python",
   "nbconvert_exporter": "python",
   "pygments_lexer": "ipython3",
   "version": "3.10.2"
  }
 },
 "nbformat": 4,
 "nbformat_minor": 5
}
