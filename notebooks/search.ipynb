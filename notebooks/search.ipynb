{
 "cells": [
  {
   "cell_type": "code",
   "execution_count": null,
   "id": "fb6cee7f-4523-43e8-bee6-cddc302c4ba7",
   "metadata": {},
   "outputs": [],
   "source": [
    "from elasticsearch import Elasticsearch"
   ]
  },
  {
   "cell_type": "markdown",
   "id": "00fb3188-491e-48da-a8f8-1949e5e6aaa8",
   "metadata": {},
   "source": [
    "## remote index"
   ]
  },
  {
   "cell_type": "code",
   "execution_count": null,
   "id": "2405ae9d-34a1-459d-9b95-a36e5e46097b",
   "metadata": {},
   "outputs": [],
   "source": [
    "es_remote = Elasticsearch([\"elasticsearch.ceda.ac.uk:443\"], use_ssl=True, verify_certs=True)\n",
    "remote_index = \"c3s-roocs-fix-prop\""
   ]
  },
  {
   "cell_type": "code",
   "execution_count": null,
   "id": "2967354d-e93f-4a69-ab2c-41a53a14c4b3",
   "metadata": {},
   "outputs": [],
   "source": [
    "es_remote.count(index=remote_index)"
   ]
  },
  {
   "cell_type": "code",
   "execution_count": null,
   "id": "22312acc-92e4-4f56-88ca-9841bc6005f0",
   "metadata": {},
   "outputs": [],
   "source": [
    "result = es_remote.search(index=remote_index, size=1)\n",
    "result"
   ]
  },
  {
   "cell_type": "code",
   "execution_count": null,
   "id": "d610f532-a1e5-450a-abf8-d558de48f4b1",
   "metadata": {},
   "outputs": [],
   "source": [
    "id = result['hits']['hits'][0]['_id']\n",
    "id"
   ]
  },
  {
   "cell_type": "code",
   "execution_count": null,
   "id": "98deecb7-d7ce-4343-a1a0-893249c519de",
   "metadata": {},
   "outputs": [],
   "source": [
    "dataset_id = result['hits']['hits'][0]['_source']['dataset_id']\n",
    "dataset_id"
   ]
  },
  {
   "cell_type": "code",
   "execution_count": null,
   "id": "146186ea-f074-4a03-85ed-5d57115a1942",
   "metadata": {},
   "outputs": [],
   "source": [
    "es_remote.get(index=remote_index, id=id)"
   ]
  },
  {
   "cell_type": "markdown",
   "id": "196add76-ec1b-452e-b2f8-7647230f0113",
   "metadata": {},
   "source": [
    "## local index"
   ]
  },
  {
   "cell_type": "code",
   "execution_count": null,
   "id": "ed495e3f-6b36-4f41-addf-6a4f5b7a6039",
   "metadata": {},
   "outputs": [],
   "source": [
    "es_local = Elasticsearch([\"rook-search5.cloud.dkrz.de:9200\"])\n",
    "local_index = remote_index"
   ]
  },
  {
   "cell_type": "code",
   "execution_count": null,
   "id": "e4805dc6-2c5e-4e1d-85ac-451fb910673b",
   "metadata": {},
   "outputs": [],
   "source": [
    "es_local.count(index=local_index)"
   ]
  },
  {
   "cell_type": "code",
   "execution_count": null,
   "id": "f65e53dd-c1ae-43c6-916a-17d4034c0670",
   "metadata": {},
   "outputs": [],
   "source": [
    "es_local.get(index=local_index, id=id)"
   ]
  },
  {
   "cell_type": "code",
   "execution_count": null,
   "id": "56cd06ae-7309-4e3d-a76a-cd3629c19404",
   "metadata": {},
   "outputs": [],
   "source": [
    "dataset_id = result['hits']['hits'][0]['_source']['dataset_id']\n",
    "dataset_id"
   ]
  }
 ],
 "metadata": {
  "kernelspec": {
   "display_name": "Python 3 (ipykernel)",
   "language": "python",
   "name": "python3"
  },
  "language_info": {
   "codemirror_mode": {
    "name": "ipython",
    "version": 3
   },
   "file_extension": ".py",
   "mimetype": "text/x-python",
   "name": "python",
   "nbconvert_exporter": "python",
   "pygments_lexer": "ipython3",
   "version": "3.10.2"
  }
 },
 "nbformat": 4,
 "nbformat_minor": 5
}
